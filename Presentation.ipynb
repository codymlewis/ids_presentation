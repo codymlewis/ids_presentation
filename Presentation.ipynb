{
 "cells": [
  {
   "cell_type": "markdown",
   "id": "01451d40-2282-4e52-81c3-b6ae73ad83f4",
   "metadata": {},
   "source": [
    "# Preprocessing Data"
   ]
  },
  {
   "cell_type": "code",
   "execution_count": null,
   "id": "ac5f2671-c73f-4c0d-88de-396ad1d1176e",
   "metadata": {},
   "outputs": [],
   "source": [
    "import typing\n",
    "import pandas as pd\n",
    "import numpy as np\n",
    "from sklearn import preprocessing as skp"
   ]
  },
  {
   "cell_type": "markdown",
   "id": "3a1880cc-99fe-473f-b85e-ef70216534fd",
   "metadata": {},
   "source": [
    "## First Formatting of the Data"
   ]
  },
  {
   "cell_type": "code",
   "execution_count": null,
   "id": "739ef4d8-839a-4662-a37f-9af726ed3d46",
   "metadata": {},
   "outputs": [],
   "source": [
    "train_data = pd.read_csv(\"data/UNSW_NB15_training-set.csv\")\n",
    "test_data = pd.read_csv(\"data/UNSW_NB15_testing-set.csv\")"
   ]
  },
  {
   "cell_type": "markdown",
   "id": "6ae63e01-8d59-4ae8-b214-579fefed0d62",
   "metadata": {},
   "source": [
    "## Some Small Exploration of the Data"
   ]
  },
  {
   "cell_type": "code",
   "execution_count": null,
   "id": "2562867f-6545-4acb-a89f-13a0e603b244",
   "metadata": {},
   "outputs": [],
   "source": [
    "train_data.describe()"
   ]
  },
  {
   "cell_type": "code",
   "execution_count": null,
   "id": "868e3cf5-c326-4295-ab83-8106e23c6d44",
   "metadata": {},
   "outputs": [],
   "source": [
    "train_data.info()"
   ]
  },
  {
   "cell_type": "markdown",
   "id": "087dde24-296a-4129-bdd2-aa9f22ebae47",
   "metadata": {},
   "source": [
    "## Removing Unneeded Columns"
   ]
  },
  {
   "cell_type": "code",
   "execution_count": null,
   "id": "c818ea68-b6ad-4b36-91c3-443f1f81ceaa",
   "metadata": {},
   "outputs": [],
   "source": [
    "train_data = train_data.drop(columns=[\"id\", \"attack_cat\"])\n",
    "test_data = test_data.drop(columns=[\"id\", \"attack_cat\"])"
   ]
  },
  {
   "cell_type": "markdown",
   "id": "d7aef0c5-6335-43aa-aadb-66383d8c0e27",
   "metadata": {},
   "source": [
    "## Converting Data to Numerical Values"
   ]
  },
  {
   "cell_type": "code",
   "execution_count": null,
   "id": "a8426baf-6da5-41fa-a23a-58e546691f73",
   "metadata": {},
   "outputs": [],
   "source": [
    "def encode_categoricals(data: pd.DataFrame):\n",
    "    \"Encode the categorical columns in data as integers using enumeration\"\n",
    "    categorical_cols = [c for c in data if data[c].dtype == \"object\"]\n",
    "    data[categorical_cols] = skp.OrdinalEncoder().fit_transform(data[categorical_cols])\n",
    "    \n",
    "encode_categoricals(train_data)\n",
    "encode_categoricals(test_data)"
   ]
  },
  {
   "cell_type": "markdown",
   "id": "371d204a-8e3b-43e7-9903-5360c87abdeb",
   "metadata": {},
   "source": [
    "## Normalization"
   ]
  },
  {
   "cell_type": "code",
   "execution_count": null,
   "id": "c174f63b-9945-4239-b2b3-ff7c55a3e3bb",
   "metadata": {},
   "outputs": [],
   "source": [
    "def byterize(x: typing.Collection[float]) -> typing.Collection[float]:\n",
    "    \"Return the number of bits in the nearest byte that can contain x\"\n",
    "    return 2**np.ceil(np.log2(x))\n",
    "\n",
    "def min_max_scale(x: float|typing.Collection[float], min_val: float, max_val: float) -> float|typing.Collection[float]:\n",
    "    \"Scale x into the range [0, 1] uniformly where x = 1 means before scaling x = max_val, and x = 0 means before scaling x = min_val\"\n",
    "    return (x - min_val) / (max_val - min_val)\n",
    "\n",
    "def normalize(train_data: pd.DataFrame, test_data: pd.DataFrame):\n",
    "    \"Normalize all the data into the [0, 1] according to the training data's properties\"\n",
    "    for col in train_data:\n",
    "        min_val = np.floor(train_data[col].min())\n",
    "        max_val = byterize(train_data[col].max())\n",
    "        test_data[col] = test_data[col].clip(upper=max_val)\n",
    "        train_data[col] = min_max_scale(train_data[col], min_val, max_val)\n",
    "        test_data[col] = min_max_scale(test_data[col], min_val, max_val)\n",
    "        \n",
    "normalize(train_data, test_data)"
   ]
  },
  {
   "cell_type": "markdown",
   "id": "f362f66b-3231-413b-88ff-8b7a8f362c7c",
   "metadata": {},
   "source": [
    "## Final Formatting"
   ]
  },
  {
   "cell_type": "code",
   "execution_count": null,
   "id": "ab4db531-11df-4cc1-a002-bdbdea726499",
   "metadata": {},
   "outputs": [],
   "source": [
    "def extract_X_Y(data: pd.DataFrame):\n",
    "    \"Extract the samples and labels into the numpy arrays X, Y respectively\"\n",
    "    Y = data.label.to_numpy()\n",
    "    X = data.drop(columns=\"label\").to_numpy()\n",
    "    return X, Y\n",
    "\n",
    "X_train, Y_train = extract_X_Y(train_data)\n",
    "X_test, Y_test = extract_X_Y(test_data)"
   ]
  },
  {
   "cell_type": "markdown",
   "id": "88ad810d-abc3-4668-83e9-9911bc59b653",
   "metadata": {},
   "source": [
    "# Supervised Machine Learning"
   ]
  },
  {
   "cell_type": "code",
   "execution_count": null,
   "id": "8ab9eaa7-c588-4391-b48e-0137a91a9c2d",
   "metadata": {},
   "outputs": [],
   "source": [
    "import tensorflow as tf\n",
    "\n",
    "def create_model(sample_shape):\n",
    "    inputs = tf.keras.Input(sample_shape)\n",
    "    x = tf.keras.layers.Dense(100, activation=\"relu\")(inputs)\n",
    "    x = tf.keras.layers.Dense(50, activation=\"relu\")(x)\n",
    "    x = tf.keras.layers.Dense(1, activation=\"sigmoid\")(x)\n",
    "    model = tf.keras.Model(inputs=inputs, outputs=x)\n",
    "    model.compile(\n",
    "        optimizer=tf.keras.optimizers.Adam(learning_rate=0.01),\n",
    "        loss=\"binary_crossentropy\",\n",
    "        metrics=[\"binary_accuracy\", \"AUC\"]\n",
    "    )\n",
    "    return model\n",
    "\n",
    "model = create_model(X_train.shape[1:])\n",
    "model.fit(x=X_train, y=Y_train, batch_size=128, epochs=3)\n",
    "loss, acc, auc = model.evaluate(X_test, Y_test)\n",
    "print(f\"LOSS: {loss}, Accuracy: {acc:%}, AUC: {auc}\")"
   ]
  },
  {
   "cell_type": "markdown",
   "id": "89cd1db5-17e2-451f-a1cd-e106f5e730c3",
   "metadata": {},
   "source": [
    "# Unsupervised Machine Learning"
   ]
  },
  {
   "cell_type": "code",
   "execution_count": null,
   "id": "94f29af8-809a-4173-80e2-e79cc6f0b78b",
   "metadata": {},
   "outputs": [],
   "source": [
    "from sklearn import cluster as skc\n",
    "from sklearn import metrics as skm\n",
    "\n",
    "model = skc.KMeans(n_clusters=2, n_init='auto')\n",
    "model.fit(X_train)\n",
    "\n",
    "attack_idx = Y_train == 1\n",
    "attack_cluster = model.predict(X_train[attack_idx]).mean().round()"
   ]
  },
  {
   "cell_type": "code",
   "execution_count": null,
   "id": "24040324-dcc0-474c-9590-8a8becbd6a87",
   "metadata": {},
   "outputs": [],
   "source": [
    "def predict(model, X_train, Y_train, X_test, Y_test):\n",
    "    attack_idx = Y_train == 1\n",
    "    attack_cluster = model.predict(X_train[attack_idx]).mean().round()\n",
    "    return 1 - model.predict(X_test) if attack_cluster == 0 else model.predict(X_test)\n",
    "\n",
    "preds = predict(model, X_train, Y_train, X_test, Y_test)"
   ]
  },
  {
   "cell_type": "code",
   "execution_count": null,
   "id": "88f6f6e3-e14f-4e3a-8767-d6a0c1cd86ac",
   "metadata": {},
   "outputs": [],
   "source": [
    "loss = skm.log_loss(Y_test, preds)\n",
    "acc = skm.accuracy_score(Y_test, preds)\n",
    "mcc = skm.matthews_corrcoef(Y_test, preds)\n",
    "print(f\"Loss: {loss}, Accuracy: {acc:%}, MCC: {mcc}\")"
   ]
  }
 ],
 "metadata": {
  "kernelspec": {
   "display_name": "Python 3 (ipykernel)",
   "language": "python",
   "name": "python3"
  },
  "language_info": {
   "codemirror_mode": {
    "name": "ipython",
    "version": 3
   },
   "file_extension": ".py",
   "mimetype": "text/x-python",
   "name": "python",
   "nbconvert_exporter": "python",
   "pygments_lexer": "ipython3",
   "version": "3.10.10"
  }
 },
 "nbformat": 4,
 "nbformat_minor": 5
}
